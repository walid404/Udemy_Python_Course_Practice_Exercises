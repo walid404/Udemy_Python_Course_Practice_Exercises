{
  "nbformat": 4,
  "nbformat_minor": 0,
  "metadata": {
    "colab": {
      "provenance": []
    },
    "kernelspec": {
      "name": "python3",
      "display_name": "Python 3"
    },
    "language_info": {
      "name": "python"
    }
  },
  "cells": [
    {
      "cell_type": "code",
      "execution_count": null,
      "metadata": {
        "id": "KCQfu52mnm6E"
      },
      "outputs": [],
      "source": []
    },
    {
      "cell_type": "code",
      "execution_count": 1,
      "metadata": {
        "id": "OvXE5XCnqlDe"
      },
      "outputs": [],
      "source": [
        "class BankAccount:\n",
        "  def set_details(self, name, balance=0):\n",
        "    self.name = name\n",
        "    self.balance = balance\n",
        "\n",
        "  def display(self):  \n",
        "    print(self.name, self.balance)\n",
        "\n",
        "  def withdraw(self, amount):\n",
        "    self.balance -= amount\n",
        "\n",
        "  def deposit(self, amount):\n",
        "    self.balance += amount"
      ]
    },
    {
      "cell_type": "code",
      "source": [
        "a1 = BankAccount()\n",
        "a1.set_details('Mike', 200)\n",
        " \n",
        "a2 = BankAccount()\n",
        "a2.set_details('Tom')\n",
        " \n",
        "a1.display()\n",
        "a2.display()\n",
        " \n",
        "a1.withdraw(100)\n",
        "a2.deposit(500)\n",
        " \n",
        "a1.display()\n",
        "a2.display()"
      ],
      "metadata": {
        "id": "SpE_8v0snNdR",
        "colab": {
          "base_uri": "https://localhost:8080/"
        },
        "outputId": "0bcd1037-4987-40e5-ecab-f29d33655a32"
      },
      "execution_count": 2,
      "outputs": [
        {
          "output_type": "stream",
          "name": "stdout",
          "text": [
            "Mike 200\n",
            "Tom 0\n",
            "Mike 100\n",
            "Tom 500\n"
          ]
        }
      ]
    },
    {
      "cell_type": "code",
      "source": [],
      "metadata": {
        "id": "iZ0SsoxQnt_Z"
      },
      "execution_count": null,
      "outputs": []
    }
  ]
}