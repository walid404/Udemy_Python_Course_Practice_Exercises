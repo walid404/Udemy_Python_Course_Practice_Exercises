{
  "nbformat": 4,
  "nbformat_minor": 0,
  "metadata": {
    "colab": {
      "provenance": []
    },
    "kernelspec": {
      "name": "python3",
      "display_name": "Python 3"
    },
    "language_info": {
      "name": "python"
    },
    "gpuClass": "standard"
  },
  "cells": [
    {
      "cell_type": "code",
      "execution_count": 15,
      "metadata": {
        "id": "Yn3ZbIbdsiTB"
      },
      "outputs": [],
      "source": [
        "class Time:\n",
        "    def __init__(self,h,m,s):\n",
        "        self._h = h \n",
        "        self._m = m\n",
        "        self._s = h\n",
        " \n",
        "    #Read-only field accessors\n",
        "    @property\n",
        "    def hours(self):\n",
        "        return self._h\n",
        " \n",
        "    @property\n",
        "    def minutes(self):\n",
        "        return self._m\n",
        " \n",
        "    @property\n",
        "    def seconds(self):\n",
        "        return self._s\n",
        "\n",
        "    def __eq__(self, other):\n",
        "      return _cmp(self, other) == 0\n",
        "\n",
        "    def __lt__(self, other):\n",
        "      return _cmp(self, other) == 1\n",
        "\n",
        "    def __le__(self, other):\n",
        "      return self == other or self < other\n",
        " \n",
        "def _cmp(time1,time2):\n",
        "    if time1._h < time2._h:\n",
        "        return 1\n",
        "    if time1._h > time2._h:\n",
        "        return -1\n",
        "    if time1._m < time2._m:\n",
        "        return 1\n",
        "    if time1._m > time2._m:\n",
        "        return -1\n",
        "    if time1._s < time2._s:\n",
        "        return 1\n",
        "    if time1._s > time2._s:\n",
        "        return -1\n",
        "    return 0\n",
        " \n",
        "       \n"
      ]
    },
    {
      "cell_type": "code",
      "source": [
        "t1 = Time(13, 10, 5)\n",
        "t2 = Time(5, 15, 30)\n",
        "t3 = Time(5, 15, 30)\n",
        "print(t1 <= t2)\n",
        "print(t1 >= t2)\n",
        "print(t1 == t2)\n",
        "print(t2 == t3)"
      ],
      "metadata": {
        "colab": {
          "base_uri": "https://localhost:8080/"
        },
        "id": "Y3gEGubBs9Fr",
        "outputId": "c876a7d5-10fb-4841-810f-abeeb9285bd2"
      },
      "execution_count": 17,
      "outputs": [
        {
          "output_type": "stream",
          "name": "stdout",
          "text": [
            "False\n",
            "True\n",
            "False\n",
            "True\n"
          ]
        }
      ]
    },
    {
      "cell_type": "code",
      "source": [
        "class Length:\n",
        "    def __init__(self, feet, inches):\n",
        "        self.feet = feet  \n",
        "        self.inches = inches\n",
        " \n",
        "    def __str__(self):\n",
        "        return f'{self.feet} {self.inches}'\n",
        " \n",
        "    def add_length(self,L):\n",
        "       f = self.feet + L.feet\n",
        "       i = self.inches + L.inches\n",
        "       if i >= 12:\n",
        "           i = i - 12\n",
        "       f += 1\n",
        "       return Length(f, i)\n",
        " \n",
        "    def add_inches(self,inches):\n",
        "       f = self.feet + inches // 12\n",
        "       i = self.inches + inches % 12\n",
        "       if i >= 12:\n",
        "           i = i - 12\n",
        "       f += 1\n",
        "       return Length(f, i)\n",
        "\n",
        "    def __add__(self, other):\n",
        "      if isinstance(other, Length):\n",
        "        return self.add_length(other)\n",
        "      else:\n",
        "        return self.add_inches(other)\n",
        "\n",
        "    def __radd__(self, other):\n",
        "      return self + other\n",
        "  \n",
        " \n"
      ],
      "metadata": {
        "id": "PJ4zXc6guceq"
      },
      "execution_count": 22,
      "outputs": []
    },
    {
      "cell_type": "code",
      "source": [
        "length1 = Length(2,10)\n",
        "length2 = Length(3,5)\n",
        "    \n",
        "print(length1 + length2)\n",
        "print(length1 + 2)\n",
        "print(length1 + 20)\n",
        "print(20 + length1)"
      ],
      "metadata": {
        "colab": {
          "base_uri": "https://localhost:8080/"
        },
        "id": "dn5LwWCSynX2",
        "outputId": "a1019e26-2d8b-4009-8af3-3b2935b776f2"
      },
      "execution_count": 23,
      "outputs": [
        {
          "output_type": "stream",
          "name": "stdout",
          "text": [
            "6 3\n",
            "3 0\n",
            "4 6\n",
            "4 6\n"
          ]
        }
      ]
    },
    {
      "cell_type": "code",
      "source": [],
      "metadata": {
        "id": "LRVECBPp0C37"
      },
      "execution_count": null,
      "outputs": []
    }
  ]
}