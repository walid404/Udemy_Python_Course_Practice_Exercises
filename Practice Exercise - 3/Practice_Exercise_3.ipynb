{
  "nbformat": 4,
  "nbformat_minor": 0,
  "metadata": {
    "colab": {
      "provenance": []
    },
    "kernelspec": {
      "name": "python3",
      "display_name": "Python 3"
    },
    "language_info": {
      "name": "python"
    }
  },
  "cells": [
    {
      "cell_type": "code",
      "source": [
        "class Fraction:\n",
        "      def __init__(self, nr, dr=1):\n",
        "            if dr < 0:\n",
        "                self.nr = - nr\n",
        "                self.dr = - dr\n",
        "            else :\n",
        "                self.nr = nr\n",
        "                self.dr = dr\n",
        "            self._reduce()\n",
        "\n",
        "      def show(self):\n",
        "            print(str(self.nr) + '/' + str(self.dr))\n",
        "\n",
        "      def multiply(self, value):\n",
        "            if isinstance(value, Fraction):\n",
        "                nr = self.nr * value.nr\n",
        "                dr = self.dr * value.dr\n",
        "            else:\n",
        "                nr = self.nr * value\n",
        "                dr = self.dr\n",
        "\n",
        "            return Fraction(nr, dr)\n",
        "\n",
        "      def add(self, value):\n",
        "            if isinstance(value, Fraction):\n",
        "                nr = self.nr*value.dr + value.nr*self.dr\n",
        "                dr = self.dr*value.dr\n",
        "            else:\n",
        "                nr = self.nr + value*self.dr \n",
        "                dr = self.dr\n",
        "\n",
        "            return Fraction(nr, dr)\n",
        "\n",
        "      @staticmethod\n",
        "      def hcf(x,y):\n",
        "            x=abs(x)\n",
        "            y=abs(y)\n",
        "            smaller = y if x>y else x\n",
        "            s = smaller\n",
        "            while s>0:\n",
        "                if x%s==0 and y%s==0:\n",
        "                    break\n",
        "                s-=1\n",
        "            return s\n",
        "\n",
        "      def _reduce(self):\n",
        "            hcf = Fraction.hcf(self.dr, self.nr)\n",
        "            self.dr /= hcf\n",
        "            self.nr /= hcf\n"
      ],
      "metadata": {
        "id": "Pjq6jroCkuow"
      },
      "execution_count": 2,
      "outputs": []
    },
    {
      "cell_type": "code",
      "source": [
        "f1 = Fraction(2,3)\n",
        "f1.show()\n",
        "f2 = Fraction(3,4)\n",
        "f2.show()\n",
        "f3 = f1.multiply(f2)\n",
        "f3.show()\n",
        "f3 = f1.add(f2)\n",
        "f3.show()\n",
        "f3 = f1.add(5) \n",
        "f3.show()\n",
        "f3 = f1.multiply(5) \n",
        "f3.show()"
      ],
      "metadata": {
        "colab": {
          "base_uri": "https://localhost:8080/"
        },
        "id": "wBoAybW26MEa",
        "outputId": "490e0b02-1bed-455a-9720-65462a4a3b54"
      },
      "execution_count": 3,
      "outputs": [
        {
          "output_type": "stream",
          "name": "stdout",
          "text": [
            "2.0/3.0\n",
            "3.0/4.0\n",
            "1.0/2.0\n",
            "17.0/12.0\n",
            "17.0/3.0\n",
            "10.0/3.0\n"
          ]
        }
      ]
    },
    {
      "cell_type": "code",
      "source": [
        "class SalesPerson:   \n",
        "    total_revenue = 0\n",
        "    names = []\n",
        "    def __init__(self,name,age):\n",
        "        self.name = name\n",
        "        self.age = age\n",
        "        self.sales_amount = 0\n",
        "        SalesPerson.names.append(name)\n",
        " \n",
        "    def make_sale(self,money):\n",
        "        self.sales_amount += money\n",
        "        SalesPerson.total_revenue += money\n",
        " \n",
        "    def show(self):\n",
        "        print(self.name, self.age, self.sales_amount)\n",
        " \n"
      ],
      "metadata": {
        "id": "9O1K3uw16L1J"
      },
      "execution_count": 4,
      "outputs": []
    },
    {
      "cell_type": "code",
      "source": [
        "s1 = SalesPerson('Bob', 25)\n",
        "s2 = SalesPerson('Ted', 22)\n",
        "s3 = SalesPerson('Jack', 27)\n",
        " \n",
        "s1.make_sale(1000)\n",
        "s1.make_sale(1200)\n",
        "s2.make_sale(5000)\n",
        "s3.make_sale(3000)\n",
        "s3.make_sale(8000)\n",
        " \n",
        "s1.show()\n",
        "s2.show()\n",
        "s3.show()"
      ],
      "metadata": {
        "colab": {
          "base_uri": "https://localhost:8080/"
        },
        "id": "s_g0ZyCu8CnI",
        "outputId": "6bf6ed11-8465-4ed2-ab3f-2c08b22f1d50"
      },
      "execution_count": 5,
      "outputs": [
        {
          "output_type": "stream",
          "name": "stdout",
          "text": [
            "Bob 25 2200\n",
            "Ted 22 5000\n",
            "Jack 27 11000\n"
          ]
        }
      ]
    },
    {
      "cell_type": "code",
      "source": [
        "class Employee:\n",
        "    domains = set()    \n",
        "    def __init__(self,name,email):\n",
        "        self.name = name\n",
        "        self.email = email\n",
        "        domain = email.split('@')[1]\n",
        "        Employee.domains.add(domain)\n",
        "   \n",
        "    def display(self):\n",
        "        print(self.name, self.email)\n",
        "            \n"
      ],
      "metadata": {
        "id": "_NTXHe6w8mRj"
      },
      "execution_count": 6,
      "outputs": []
    },
    {
      "cell_type": "code",
      "source": [
        "e1 = Employee('John','john@gmail.com')\n",
        "e2 = Employee('Jack','jack@yahoo.com')\n",
        "e3 = Employee('Jill','jill@outlook.com')\n",
        "e4 = Employee('Ted','ted@yahoo.com')\n",
        "e5 = Employee('Tim','tim@gmail.com')\n",
        "e6 = Employee('Mike','mike@yahoo.com')"
      ],
      "metadata": {
        "id": "sGw9KTqv83fQ"
      },
      "execution_count": 7,
      "outputs": []
    },
    {
      "cell_type": "code",
      "source": [
        "print(Employee.domains)"
      ],
      "metadata": {
        "colab": {
          "base_uri": "https://localhost:8080/"
        },
        "id": "ZL26LTKF_APZ",
        "outputId": "47f2e537-522a-43de-c059-67f745a429ef"
      },
      "execution_count": 8,
      "outputs": [
        {
          "output_type": "stream",
          "name": "stdout",
          "text": [
            "{'outlook.com', 'yahoo.com', 'gmail.com'}\n"
          ]
        }
      ]
    },
    {
      "cell_type": "code",
      "source": [
        "class Employee:\n",
        "    allowed_domains = {'yahoo.com', 'gmail.com', 'outlook.com'}\n",
        "    def __init__(self,name,email):\n",
        "        self.name = name\n",
        "        self.email = email\n",
        "        domain = email.split('@')[1]\n",
        "        if domain not in Employee.allowed_domains:\n",
        "          raise RuntimeError(f'{domain} is not allowed')\n",
        " \n",
        "    def display(self):\n",
        "        print(self.name, self.email)\n",
        " "
      ],
      "metadata": {
        "id": "px3EZux3_GOc"
      },
      "execution_count": 11,
      "outputs": []
    },
    {
      "cell_type": "code",
      "source": [
        "e1 = Employee('John','john@gmail.com')\n",
        "e2 = Employee('Jack','jack@yahoo.com')\n",
        "e3 = Employee('Jill','jill@outlook.com')\n",
        "e4 = Employee('Ted','ted@yahoo.com')\n",
        "e5 = Employee('Tim','tim@xmail.com')"
      ],
      "metadata": {
        "colab": {
          "base_uri": "https://localhost:8080/",
          "height": 321
        },
        "id": "1q-9IsKh_-r9",
        "outputId": "f151a497-df2a-4dc8-bf3d-8ed461b19f85"
      },
      "execution_count": 12,
      "outputs": [
        {
          "output_type": "error",
          "ename": "RuntimeError",
          "evalue": "ignored",
          "traceback": [
            "\u001b[0;31m---------------------------------------------------------------------------\u001b[0m",
            "\u001b[0;31mRuntimeError\u001b[0m                              Traceback (most recent call last)",
            "\u001b[0;32m<ipython-input-12-b806792973d2>\u001b[0m in \u001b[0;36m<module>\u001b[0;34m\u001b[0m\n\u001b[1;32m      3\u001b[0m \u001b[0me3\u001b[0m \u001b[0;34m=\u001b[0m \u001b[0mEmployee\u001b[0m\u001b[0;34m(\u001b[0m\u001b[0;34m'Jill'\u001b[0m\u001b[0;34m,\u001b[0m\u001b[0;34m'jill@outlook.com'\u001b[0m\u001b[0;34m)\u001b[0m\u001b[0;34m\u001b[0m\u001b[0;34m\u001b[0m\u001b[0m\n\u001b[1;32m      4\u001b[0m \u001b[0me4\u001b[0m \u001b[0;34m=\u001b[0m \u001b[0mEmployee\u001b[0m\u001b[0;34m(\u001b[0m\u001b[0;34m'Ted'\u001b[0m\u001b[0;34m,\u001b[0m\u001b[0;34m'ted@yahoo.com'\u001b[0m\u001b[0;34m)\u001b[0m\u001b[0;34m\u001b[0m\u001b[0;34m\u001b[0m\u001b[0m\n\u001b[0;32m----> 5\u001b[0;31m \u001b[0me5\u001b[0m \u001b[0;34m=\u001b[0m \u001b[0mEmployee\u001b[0m\u001b[0;34m(\u001b[0m\u001b[0;34m'Tim'\u001b[0m\u001b[0;34m,\u001b[0m\u001b[0;34m'tim@xmail.com'\u001b[0m\u001b[0;34m)\u001b[0m\u001b[0;34m\u001b[0m\u001b[0;34m\u001b[0m\u001b[0m\n\u001b[0m",
            "\u001b[0;32m<ipython-input-11-2c6f4ffda6c9>\u001b[0m in \u001b[0;36m__init__\u001b[0;34m(self, name, email)\u001b[0m\n\u001b[1;32m      6\u001b[0m         \u001b[0mdomain\u001b[0m \u001b[0;34m=\u001b[0m \u001b[0memail\u001b[0m\u001b[0;34m.\u001b[0m\u001b[0msplit\u001b[0m\u001b[0;34m(\u001b[0m\u001b[0;34m'@'\u001b[0m\u001b[0;34m)\u001b[0m\u001b[0;34m[\u001b[0m\u001b[0;36m1\u001b[0m\u001b[0;34m]\u001b[0m\u001b[0;34m\u001b[0m\u001b[0;34m\u001b[0m\u001b[0m\n\u001b[1;32m      7\u001b[0m         \u001b[0;32mif\u001b[0m \u001b[0mdomain\u001b[0m \u001b[0;32mnot\u001b[0m \u001b[0;32min\u001b[0m \u001b[0mEmployee\u001b[0m\u001b[0;34m.\u001b[0m\u001b[0mallowed_domains\u001b[0m\u001b[0;34m:\u001b[0m\u001b[0;34m\u001b[0m\u001b[0;34m\u001b[0m\u001b[0m\n\u001b[0;32m----> 8\u001b[0;31m           \u001b[0;32mraise\u001b[0m \u001b[0mRuntimeError\u001b[0m\u001b[0;34m(\u001b[0m\u001b[0;34mf'{domain} is not allowed'\u001b[0m\u001b[0;34m)\u001b[0m\u001b[0;34m\u001b[0m\u001b[0;34m\u001b[0m\u001b[0m\n\u001b[0m\u001b[1;32m      9\u001b[0m \u001b[0;34m\u001b[0m\u001b[0m\n\u001b[1;32m     10\u001b[0m     \u001b[0;32mdef\u001b[0m \u001b[0mdisplay\u001b[0m\u001b[0;34m(\u001b[0m\u001b[0mself\u001b[0m\u001b[0;34m)\u001b[0m\u001b[0;34m:\u001b[0m\u001b[0;34m\u001b[0m\u001b[0;34m\u001b[0m\u001b[0m\n",
            "\u001b[0;31mRuntimeError\u001b[0m: xmail.com is not allowed"
          ]
        }
      ]
    },
    {
      "cell_type": "code",
      "source": [
        "class Stack:\n",
        "    MAX_SIZE = 10\n",
        "    def __init__(self):\n",
        "        self.items = []\n",
        " \n",
        "    def is_empty(self):\n",
        "        return self.items == []\n",
        " \n",
        "    def size(self):\n",
        "        return len(self.items)\n",
        " \n",
        "    def push(self, item):\n",
        "        if self.size() < Stack.MAX_SIZE:\n",
        "            self.items.append(item)\n",
        "        else:\n",
        "            raise RuntimeError(\"Stack is full\")\n",
        " \n",
        "    def pop(self):\n",
        "        if self.is_empty():\n",
        "            raise RuntimeError(\"Stack is empty\")\n",
        "        return self.items.pop()\n",
        "    \n",
        "    def display(self):\n",
        "        print(self.items)\n",
        " \n"
      ],
      "metadata": {
        "id": "UQDK_S3NAIvu"
      },
      "execution_count": 14,
      "outputs": []
    },
    {
      "cell_type": "code",
      "source": [
        "if __name__ == \"__main__\":\n",
        "    st = Stack()\n",
        " \n",
        "    while True:\n",
        "        print(\"1.Push\") \n",
        "        print(\"2.Pop\") \n",
        "        print(\"3.Peek\") \n",
        "        print(\"4.Size\")\n",
        "        print(\"5.Display\") \n",
        "        print(\"6.Quit\")\n",
        "         \n",
        "        choice = int(input(\"Enter your choice : \"))\n",
        " \n",
        "        if choice == 1:\n",
        "            x=int(input(\"Enter the element to be pushed : \"))\n",
        "            st.push(x) \n",
        "        elif choice == 2:\n",
        "            x=st.pop() \n",
        "            print(\"Popped element is : \" , x) \n",
        "        elif choice == 3:\n",
        "            print(\"Element at the top is : \" , st.peek()) \n",
        "        elif choice == 4:\n",
        "            print(\"Size of stack \" , st.size()) \n",
        "        elif choice == 5:\n",
        "            st.display()         \n",
        "        elif choice == 6:\n",
        "          break;\n",
        "        else:\n",
        "          print(\"Wrong choice\") \n",
        "        print() "
      ],
      "metadata": {
        "colab": {
          "base_uri": "https://localhost:8080/"
        },
        "id": "XZvShiwvAq9Y",
        "outputId": "a13df12b-b6d3-427f-f051-693a74535584"
      },
      "execution_count": 15,
      "outputs": [
        {
          "name": "stdout",
          "output_type": "stream",
          "text": [
            "1.Push\n",
            "2.Pop\n",
            "3.Peek\n",
            "4.Size\n",
            "5.Display\n",
            "6.Quit\n",
            "Enter your choice : 1\n",
            "Enter the element to be pushed : 5\n",
            "\n",
            "1.Push\n",
            "2.Pop\n",
            "3.Peek\n",
            "4.Size\n",
            "5.Display\n",
            "6.Quit\n",
            "Enter your choice : 1\n",
            "Enter the element to be pushed : 6\n",
            "\n",
            "1.Push\n",
            "2.Pop\n",
            "3.Peek\n",
            "4.Size\n",
            "5.Display\n",
            "6.Quit\n",
            "Enter your choice : 6\n"
          ]
        }
      ]
    },
    {
      "cell_type": "code",
      "source": [
        "class BankAccount:\n",
        "\n",
        "    bank_name = 'Al-ahlia'\n",
        "    def __init__(self, name, balance=0, bank = bank_name):\n",
        "        self.name = name\n",
        "        self.balance = balance\n",
        "        self.bank = bank\n",
        "        \n",
        "    def display(self):\n",
        "         print(self.name, self.balance)\n",
        " \n",
        "    def withdraw(self, amount):\n",
        "        self.balance -= amount\n",
        " \n",
        "    def deposit(self, amount):\n",
        "        self.balance += amount\n",
        "    \n"
      ],
      "metadata": {
        "id": "Va2ZJ56IBT73"
      },
      "execution_count": 20,
      "outputs": []
    },
    {
      "cell_type": "code",
      "source": [
        "a1 = BankAccount('Mike', 200)\n",
        "a2 = BankAccount('Tom')\n",
        " \n",
        "a1.display()\n",
        "a2.display()"
      ],
      "metadata": {
        "colab": {
          "base_uri": "https://localhost:8080/"
        },
        "id": "nij_otOdCE8v",
        "outputId": "2cdda2af-d51f-4c41-993a-85c58abd3421"
      },
      "execution_count": 21,
      "outputs": [
        {
          "output_type": "stream",
          "name": "stdout",
          "text": [
            "Mike 200\n",
            "Tom 0\n"
          ]
        }
      ]
    },
    {
      "cell_type": "code",
      "source": [
        "a1.bank"
      ],
      "metadata": {
        "colab": {
          "base_uri": "https://localhost:8080/",
          "height": 36
        },
        "id": "oUjO0rm_CqeR",
        "outputId": "028dcbb8-56e3-4c23-9b95-40234773afeb"
      },
      "execution_count": 22,
      "outputs": [
        {
          "output_type": "execute_result",
          "data": {
            "text/plain": [
              "'Al-ahlia'"
            ],
            "application/vnd.google.colaboratory.intrinsic+json": {
              "type": "string"
            }
          },
          "metadata": {},
          "execution_count": 22
        }
      ]
    }
  ]
}