{
  "nbformat": 4,
  "nbformat_minor": 0,
  "metadata": {
    "colab": {
      "provenance": []
    },
    "kernelspec": {
      "name": "python3",
      "display_name": "Python 3"
    },
    "language_info": {
      "name": "python"
    }
  },
  "cells": [
    {
      "cell_type": "code",
      "execution_count": 1,
      "metadata": {
        "id": "OvXE5XCnqlDe"
      },
      "outputs": [],
      "source": [
        "class BankAccount:\n",
        "  def __init__(self, name, balance=0):\n",
        "    self.name = name\n",
        "    self.balance = balance\n",
        "\n",
        "  def display(self):  \n",
        "    print(self.name, self.balance)\n",
        "\n",
        "  def withdraw(self, amount):\n",
        "    self.balance -= amount\n",
        "\n",
        "  def deposit(self, amount):\n",
        "    self.balance += amount"
      ]
    },
    {
      "cell_type": "code",
      "source": [
        "a1 = BankAccount('Mike', 200)\n",
        " \n",
        "a2 = BankAccount('Tom')\n",
        " \n",
        "a1.display()\n",
        "a2.display()\n",
        " \n",
        "a1.withdraw(100)\n",
        "a2.deposit(500)\n",
        " \n",
        "a1.display()\n",
        "a2.display()"
      ],
      "metadata": {
        "colab": {
          "base_uri": "https://localhost:8080/"
        },
        "id": "SpE_8v0snNdR",
        "outputId": "0e81f92e-eefd-4a8b-b9c9-b38aa66abd51"
      },
      "execution_count": 2,
      "outputs": [
        {
          "output_type": "stream",
          "name": "stdout",
          "text": [
            "Mike 200\n",
            "Tom 0\n",
            "Mike 100\n",
            "Tom 500\n"
          ]
        }
      ]
    },
    {
      "cell_type": "code",
      "source": [
        "class Book:\n",
        "  def __init__(self, isbn, title, author, publisher, pages, price, copies):\n",
        "    self.isbn = isbn\n",
        "    self.title = title\n",
        "    self.author = author\n",
        "    self.publisher = publisher\n",
        "    self.pages = pages\n",
        "    self.price = price\n",
        "    self.copies = copies\n",
        "\n",
        "  def display(self):\n",
        "    print(f'{self.isbn}  {self.title} {self.price} {self.copies}')\n",
        "\n",
        "  @property\n",
        "  def in_stock(self):\n",
        "    return self.copies > 0\n",
        "\n",
        "  def sell(self):\n",
        "    if self.in_stock:\n",
        "      self.copies -= 1\n",
        "    else:\n",
        "      print('the book is out of stock.')\n",
        "\n",
        "  @property\n",
        "  def price(self):\n",
        "    return self._price\n",
        "\n",
        "  @price.setter\n",
        "  def price(self, value):\n",
        "    if value > 50 & value < 1000:\n",
        "      self._price = value\n",
        "    else:\n",
        "      print('the price of a book cannot be less than 50 or more than 1000.')\n",
        "\n",
        "  \n",
        "\n",
        "  "
      ],
      "metadata": {
        "id": "vIQnUuOCgkXn"
      },
      "execution_count": 3,
      "outputs": []
    },
    {
      "cell_type": "code",
      "source": [
        "book1 = Book('957-4-36-547417-1', 'Learn Physics','Stephen', 'CBC', 350, 200,10)\n",
        "book2 = Book('652-6-86-748413-3', 'Learn Chemistry','Jack', 'CBC', 400, 220,20)\n",
        "book3 = Book('957-7-39-347216-2', 'Learn Maths','John', 'XYZ', 500, 300,5)\n",
        "book4 = Book('957-7-39-347216-2', 'Learn Biology','Jack', 'XYZ', 400, 200,6)\n",
        "book_list = [book1, book2, book3, book4]"
      ],
      "metadata": {
        "id": "-19SoUk0sDfh"
      },
      "execution_count": 4,
      "outputs": []
    },
    {
      "cell_type": "code",
      "source": [
        "for book in book_list:\n",
        "  book.display()"
      ],
      "metadata": {
        "colab": {
          "base_uri": "https://localhost:8080/"
        },
        "id": "KOFaSjSosJhy",
        "outputId": "f89eab03-38ae-4b02-a338-ace3ffc3f9e2"
      },
      "execution_count": 5,
      "outputs": [
        {
          "output_type": "stream",
          "name": "stdout",
          "text": [
            "957-4-36-547417-1  Learn Physics 200 10\n",
            "652-6-86-748413-3  Learn Chemistry 220 20\n",
            "957-7-39-347216-2  Learn Maths 300 5\n",
            "957-7-39-347216-2  Learn Biology 200 6\n"
          ]
        }
      ]
    },
    {
      "cell_type": "code",
      "source": [
        "jack_books = [book.title for book in book_list if book.author == 'Jack']"
      ],
      "metadata": {
        "id": "tLdaybHZkRza"
      },
      "execution_count": 6,
      "outputs": []
    },
    {
      "cell_type": "code",
      "source": [
        "print(jack_books)"
      ],
      "metadata": {
        "colab": {
          "base_uri": "https://localhost:8080/"
        },
        "id": "3uTA2BeSkpt2",
        "outputId": "61c14673-6094-4c74-85e3-e2d003214021"
      },
      "execution_count": 7,
      "outputs": [
        {
          "output_type": "stream",
          "name": "stdout",
          "text": [
            "['Learn Chemistry', 'Learn Biology']\n"
          ]
        }
      ]
    },
    {
      "cell_type": "code",
      "source": [
        "class Fraction:\n",
        "  def __init__(self, nr, dr=1):\n",
        "    if dr < 0:\n",
        "      self.nr = - nr\n",
        "      self.dr = - dr\n",
        "    else :\n",
        "      self.nr = nr\n",
        "      self.dr = dr\n",
        "\n",
        "  def show(self):\n",
        "    print(str(self.nr) + '/' + str(self.dr))\n",
        "\n",
        "  def multiply(self, value):\n",
        "    if isinstance(value, Fraction):\n",
        "      nr = self.nr * value.nr\n",
        "      dr = self.dr * value.dr\n",
        "    else:\n",
        "      nr = self.nr * value\n",
        "      dr = self.dr\n",
        "\n",
        "    return Fraction(nr, dr)\n",
        "\n",
        "  def add(self, value):\n",
        "    if isinstance(value, Fraction):\n",
        "      nr = self.nr*value.dr + value.nr*self.dr\n",
        "      dr = self.dr*value.dr\n",
        "    else:\n",
        "      nr = self.nr + value*self.dr \n",
        "      dr = self.dr\n",
        "\n",
        "    return Fraction(nr, dr)\n"
      ],
      "metadata": {
        "id": "Pjq6jroCkuow"
      },
      "execution_count": 8,
      "outputs": []
    },
    {
      "cell_type": "code",
      "source": [
        "f1 = Fraction(2,3)\n",
        "f1.show()\n",
        "f2 = Fraction(3,4)\n",
        "f2.show()\n",
        "f3 = f1.multiply(f2)\n",
        "f3.show()\n",
        "f3 = f1.add(f2)\n",
        "f3.show()\n",
        "f3 = f1.add(5) \n",
        "f3.show()\n",
        "f3 = f1.multiply(5) \n",
        "f3.show()"
      ],
      "metadata": {
        "colab": {
          "base_uri": "https://localhost:8080/"
        },
        "id": "cAJs-D1Uqpw6",
        "outputId": "b1164117-5886-40aa-e3e7-47543d5957a5"
      },
      "execution_count": 9,
      "outputs": [
        {
          "output_type": "stream",
          "name": "stdout",
          "text": [
            "2/3\n",
            "3/4\n",
            "6/12\n",
            "17/12\n",
            "17/3\n",
            "10/3\n"
          ]
        }
      ]
    },
    {
      "cell_type": "code",
      "source": [
        "class Product():\n",
        "    def __init__(self, id, marked_price, discount):\n",
        "        self.id = id\n",
        "        self.marked_price = marked_price\n",
        "        self.discount = discount\n",
        "    \n",
        "    def display(self):\n",
        "        print(self.id,  self.marked_price,  self.discount)\n",
        "\n",
        "    @property\n",
        "    def selling_price(self):\n",
        "      return self.marked_price - self.discount*self.marked_price/100\n",
        "\n",
        "    @property\n",
        "    def discount(self):\n",
        "      return self._discount\n",
        "\n",
        "    @discount.setter\n",
        "    def discount(self, discount):\n",
        "      if self.marked_price > 500:\n",
        "        self._discount = discount + 2\n",
        "      else:\n",
        "        self._discount = discount"
      ],
      "metadata": {
        "id": "TS_9PVMNsI4p"
      },
      "execution_count": 10,
      "outputs": []
    },
    {
      "cell_type": "code",
      "source": [
        "p1 = Product('X879', 400, 6)\n",
        "p2 = Product('A234', 100, 5)\n",
        "p3 = Product('B987', 990, 4)\n",
        "p4 = Product('H456', 800, 6)\n",
        "product_list = [p1, p2, p3, p4]"
      ],
      "metadata": {
        "id": "6Q_5ZM0Ds4oR"
      },
      "execution_count": 11,
      "outputs": []
    },
    {
      "cell_type": "code",
      "source": [
        "for product in product_list:\n",
        "  print(product.selling_price)"
      ],
      "metadata": {
        "colab": {
          "base_uri": "https://localhost:8080/"
        },
        "id": "y1lcvvOjs5h5",
        "outputId": "010a7919-33e2-4097-c600-034a231e7df3"
      },
      "execution_count": 12,
      "outputs": [
        {
          "output_type": "stream",
          "name": "stdout",
          "text": [
            "376.0\n",
            "95.0\n",
            "930.6\n",
            "736.0\n"
          ]
        }
      ]
    },
    {
      "cell_type": "code",
      "source": [
        "class Circle:\n",
        "  def __init__(self, radius):\n",
        "    if radius > 0:\n",
        "      self.radius = radius\n",
        "    else:\n",
        "      print('the radius of circle must be positive number.')\n",
        "\n",
        "  def area(self):\n",
        "    return 3.14 * self.radius * self.radius\n",
        "\n",
        "  @property\n",
        "  def diameter(self):\n",
        "    return  2 * self.radius\n",
        "\n",
        "  @property\n",
        "  def circumference(self):\n",
        "    return 2 * 3.14 * self.radius\n"
      ],
      "metadata": {
        "id": "99PNzo_5uVAp"
      },
      "execution_count": 13,
      "outputs": []
    },
    {
      "cell_type": "code",
      "source": [
        "c1 = Circle(5)\n",
        "print(c1.circumference, c1.diameter)"
      ],
      "metadata": {
        "colab": {
          "base_uri": "https://localhost:8080/"
        },
        "id": "61QFECemvnJX",
        "outputId": "9d5a211d-8cd2-4d04-d7b7-8c67fcb8668b"
      },
      "execution_count": 14,
      "outputs": [
        {
          "output_type": "stream",
          "name": "stdout",
          "text": [
            "31.400000000000002 10\n"
          ]
        }
      ]
    },
    {
      "cell_type": "code",
      "source": [
        "c2 = Circle(-5)"
      ],
      "metadata": {
        "colab": {
          "base_uri": "https://localhost:8080/"
        },
        "id": "GAg0iZGxv1KI",
        "outputId": "98f7486d-ea09-4fd5-e298-e3e865370be7"
      },
      "execution_count": 15,
      "outputs": [
        {
          "output_type": "stream",
          "name": "stdout",
          "text": [
            "the radius of circle must be positive number.\n"
          ]
        }
      ]
    }
  ]
}